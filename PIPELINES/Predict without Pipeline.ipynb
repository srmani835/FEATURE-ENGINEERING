{
 "cells": [
  {
   "cell_type": "code",
   "execution_count": 1,
   "id": "2f614cd4",
   "metadata": {},
   "outputs": [],
   "source": [
    "import pickle\n",
    "import numpy as np"
   ]
  },
  {
   "cell_type": "code",
   "execution_count": 4,
   "id": "9b035990",
   "metadata": {},
   "outputs": [],
   "source": [
    "ohe=pickle.load(open('MODELS/ohe.pkl','rb'))\n",
    "ohe_sex = pickle.load(open('MODELS/ohe_sex.pkl','rb'))\n",
    "clf=pickle.load(open('MODELS/clf.pkl','rb'))"
   ]
  },
  {
   "cell_type": "code",
   "execution_count": 5,
   "id": "43b35fda",
   "metadata": {},
   "outputs": [],
   "source": [
    "test_input=np.array([2,'male',31.0,0,0,10.5,'S'],dtype=object).reshape(1,7)\n",
    "#np.array([2, 'male', 31.0, 0, 0, 10.5, 'S'],dtype=object).reshape(1,7)"
   ]
  },
  {
   "cell_type": "code",
   "execution_count": 6,
   "id": "7634e458",
   "metadata": {},
   "outputs": [
    {
     "data": {
      "text/plain": [
       "array([[2, 'male', 31.0, 0, 0, 10.5, 'S']], dtype=object)"
      ]
     },
     "execution_count": 6,
     "metadata": {},
     "output_type": "execute_result"
    }
   ],
   "source": [
    "test_input"
   ]
  },
  {
   "cell_type": "code",
   "execution_count": 18,
   "id": "6de9e3b2",
   "metadata": {},
   "outputs": [
    {
     "data": {
      "text/plain": [
       "(array([[0., 1.]]), array([[31.0]], dtype=object))"
      ]
     },
     "execution_count": 18,
     "metadata": {},
     "output_type": "execute_result"
    }
   ],
   "source": [
    "test_sex=ohe_sex.transform(test_input[:,1].reshape(1,1))\n",
    "test_input_age = test_input[:,2].reshape(1,1)\n",
    "test_sex,test_input_age"
   ]
  },
  {
   "cell_type": "code",
   "execution_count": 22,
   "id": "950873f0",
   "metadata": {},
   "outputs": [
    {
     "data": {
      "text/plain": [
       "array([[0., 0., 1., 0.]])"
      ]
     },
     "execution_count": 22,
     "metadata": {},
     "output_type": "execute_result"
    }
   ],
   "source": [
    "test_enbarked=ohe.transform(test_input[:,-1].reshape(1,1))\n",
    "test_enbarked"
   ]
  },
  {
   "cell_type": "code",
   "execution_count": 27,
   "id": "e0f3dd1e",
   "metadata": {},
   "outputs": [],
   "source": [
    "test_rem=np.concatenate((test_input[:,[0,3,4,5]],test_input_age,test_sex,test_enbarked),axis=1)"
   ]
  },
  {
   "cell_type": "code",
   "execution_count": 29,
   "id": "f232e308",
   "metadata": {},
   "outputs": [
    {
     "data": {
      "text/plain": [
       "(1, 11)"
      ]
     },
     "execution_count": 29,
     "metadata": {},
     "output_type": "execute_result"
    }
   ],
   "source": [
    "test_rem.shape"
   ]
  },
  {
   "cell_type": "code",
   "execution_count": 30,
   "id": "dcda3d4f",
   "metadata": {},
   "outputs": [],
   "source": [
    "test_input_age = test_input[:,2].reshape(1,1)\n",
    "test_input_transformed = np.concatenate((test_input[:,[0,3,4,5]],test_input_age,test_sex,test_enbarked),axis=1)"
   ]
  },
  {
   "cell_type": "code",
   "execution_count": 31,
   "id": "7e52661e",
   "metadata": {},
   "outputs": [
    {
     "data": {
      "text/plain": [
       "(1, 11)"
      ]
     },
     "execution_count": 31,
     "metadata": {},
     "output_type": "execute_result"
    }
   ],
   "source": [
    "test_input_transformed.shape"
   ]
  },
  {
   "cell_type": "code",
   "execution_count": 32,
   "id": "d7726242",
   "metadata": {},
   "outputs": [
    {
     "data": {
      "text/plain": [
       "array([1], dtype=int64)"
      ]
     },
     "execution_count": 32,
     "metadata": {},
     "output_type": "execute_result"
    }
   ],
   "source": [
    "clf.predict(test_rem)"
   ]
  },
  {
   "cell_type": "code",
   "execution_count": null,
   "id": "4058c821",
   "metadata": {},
   "outputs": [],
   "source": []
  }
 ],
 "metadata": {
  "kernelspec": {
   "display_name": "Python 3",
   "language": "python",
   "name": "python3"
  },
  "language_info": {
   "codemirror_mode": {
    "name": "ipython",
    "version": 3
   },
   "file_extension": ".py",
   "mimetype": "text/x-python",
   "name": "python",
   "nbconvert_exporter": "python",
   "pygments_lexer": "ipython3",
   "version": "3.8.8"
  }
 },
 "nbformat": 4,
 "nbformat_minor": 5
}
