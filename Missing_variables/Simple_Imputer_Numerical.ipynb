{
 "cells": [
  {
   "cell_type": "code",
   "execution_count": 1,
   "id": "8cd26716",
   "metadata": {},
   "outputs": [],
   "source": [
    "import pandas as pd"
   ]
  },
  {
   "cell_type": "code",
   "execution_count": 2,
   "id": "a05be2cc",
   "metadata": {},
   "outputs": [
    {
     "data": {
      "text/html": [
       "<div>\n",
       "<style scoped>\n",
       "    .dataframe tbody tr th:only-of-type {\n",
       "        vertical-align: middle;\n",
       "    }\n",
       "\n",
       "    .dataframe tbody tr th {\n",
       "        vertical-align: top;\n",
       "    }\n",
       "\n",
       "    .dataframe thead th {\n",
       "        text-align: right;\n",
       "    }\n",
       "</style>\n",
       "<table border=\"1\" class=\"dataframe\">\n",
       "  <thead>\n",
       "    <tr style=\"text-align: right;\">\n",
       "      <th></th>\n",
       "      <th>Age</th>\n",
       "      <th>Fare</th>\n",
       "      <th>Family</th>\n",
       "      <th>Survived</th>\n",
       "    </tr>\n",
       "  </thead>\n",
       "  <tbody>\n",
       "    <tr>\n",
       "      <th>0</th>\n",
       "      <td>22.0</td>\n",
       "      <td>7.2500</td>\n",
       "      <td>1</td>\n",
       "      <td>0</td>\n",
       "    </tr>\n",
       "    <tr>\n",
       "      <th>1</th>\n",
       "      <td>38.0</td>\n",
       "      <td>71.2833</td>\n",
       "      <td>1</td>\n",
       "      <td>1</td>\n",
       "    </tr>\n",
       "    <tr>\n",
       "      <th>2</th>\n",
       "      <td>26.0</td>\n",
       "      <td>7.9250</td>\n",
       "      <td>0</td>\n",
       "      <td>1</td>\n",
       "    </tr>\n",
       "    <tr>\n",
       "      <th>3</th>\n",
       "      <td>35.0</td>\n",
       "      <td>53.1000</td>\n",
       "      <td>1</td>\n",
       "      <td>1</td>\n",
       "    </tr>\n",
       "    <tr>\n",
       "      <th>4</th>\n",
       "      <td>35.0</td>\n",
       "      <td>8.0500</td>\n",
       "      <td>0</td>\n",
       "      <td>0</td>\n",
       "    </tr>\n",
       "  </tbody>\n",
       "</table>\n",
       "</div>"
      ],
      "text/plain": [
       "    Age     Fare  Family  Survived\n",
       "0  22.0   7.2500       1         0\n",
       "1  38.0  71.2833       1         1\n",
       "2  26.0   7.9250       0         1\n",
       "3  35.0  53.1000       1         1\n",
       "4  35.0   8.0500       0         0"
      ]
     },
     "execution_count": 2,
     "metadata": {},
     "output_type": "execute_result"
    }
   ],
   "source": [
    "df=pd.read_csv('titanic_toy.csv')\n",
    "df.head()"
   ]
  },
  {
   "cell_type": "code",
   "execution_count": 3,
   "id": "3f4e6926",
   "metadata": {},
   "outputs": [
    {
     "name": "stdout",
     "output_type": "stream",
     "text": [
      "<class 'pandas.core.frame.DataFrame'>\n",
      "RangeIndex: 891 entries, 0 to 890\n",
      "Data columns (total 4 columns):\n",
      " #   Column    Non-Null Count  Dtype  \n",
      "---  ------    --------------  -----  \n",
      " 0   Age       714 non-null    float64\n",
      " 1   Fare      846 non-null    float64\n",
      " 2   Family    891 non-null    int64  \n",
      " 3   Survived  891 non-null    int64  \n",
      "dtypes: float64(2), int64(2)\n",
      "memory usage: 28.0 KB\n"
     ]
    }
   ],
   "source": [
    "df.info()"
   ]
  },
  {
   "cell_type": "code",
   "execution_count": 4,
   "id": "610cc40c",
   "metadata": {},
   "outputs": [],
   "source": [
    "# train and test split\n",
    "from sklearn.model_selection import train_test_split"
   ]
  },
  {
   "cell_type": "code",
   "execution_count": 5,
   "id": "9e465119",
   "metadata": {},
   "outputs": [],
   "source": [
    "X_train,X_test,y_train,y_test=train_test_split(df.iloc[:,0:3],df.iloc[:,3],test_size=0.2)"
   ]
  },
  {
   "cell_type": "markdown",
   "id": "ff86d54d",
   "metadata": {},
   "source": [
    "## Using Sklearn"
   ]
  },
  {
   "cell_type": "code",
   "execution_count": 6,
   "id": "80b37fd8",
   "metadata": {},
   "outputs": [],
   "source": [
    "from sklearn.impute import SimpleImputer"
   ]
  },
  {
   "cell_type": "code",
   "execution_count": 7,
   "id": "6f6b696e",
   "metadata": {},
   "outputs": [
    {
     "data": {
      "text/plain": [
       "(712, 3)"
      ]
     },
     "execution_count": 7,
     "metadata": {},
     "output_type": "execute_result"
    }
   ],
   "source": [
    "from sklearn.compose import ColumnTransformer\n",
    "X_train.shape"
   ]
  },
  {
   "cell_type": "code",
   "execution_count": 8,
   "id": "e2e9aa2c",
   "metadata": {},
   "outputs": [],
   "source": [
    "CT=ColumnTransformer([\n",
    "    ('trf1',SimpleImputer(),[0]),\n",
    "    ('trf2',SimpleImputer(strategy='median'),[1])\n",
    "    \n",
    "],remainder='passthrough')"
   ]
  },
  {
   "cell_type": "code",
   "execution_count": 9,
   "id": "744887ad",
   "metadata": {},
   "outputs": [],
   "source": [
    "X_train_transformed=CT.fit_transform(X_train)"
   ]
  },
  {
   "cell_type": "code",
   "execution_count": 10,
   "id": "ee24c93f",
   "metadata": {},
   "outputs": [
    {
     "data": {
      "text/plain": [
       "0"
      ]
     },
     "execution_count": 10,
     "metadata": {},
     "output_type": "execute_result"
    }
   ],
   "source": [
    "#X_test_transformed.isna().sum()\n",
    "import numpy as np\n",
    "np.count_nonzero(np.isnan(X_train_transformed))"
   ]
  },
  {
   "cell_type": "code",
   "execution_count": 11,
   "id": "f026e201",
   "metadata": {},
   "outputs": [
    {
     "data": {
      "text/plain": [
       "array([29.65414336])"
      ]
     },
     "execution_count": 11,
     "metadata": {},
     "output_type": "execute_result"
    }
   ],
   "source": [
    "CT.transformers_[0][1].statistics_"
   ]
  },
  {
   "cell_type": "code",
   "execution_count": 12,
   "id": "8aadbcd6",
   "metadata": {},
   "outputs": [],
   "source": [
    "new_df = pd.DataFrame(X_train_transformed,columns=X_train.columns)"
   ]
  },
  {
   "cell_type": "code",
   "execution_count": 13,
   "id": "81e2450a",
   "metadata": {},
   "outputs": [
    {
     "data": {
      "text/plain": [
       "Age       0\n",
       "Fare      0\n",
       "Family    0\n",
       "dtype: int64"
      ]
     },
     "execution_count": 13,
     "metadata": {},
     "output_type": "execute_result"
    }
   ],
   "source": [
    "new_df.isnull().sum()"
   ]
  },
  {
   "cell_type": "markdown",
   "id": "909055ba",
   "metadata": {},
   "source": [
    "## Using the PANDAS"
   ]
  },
  {
   "cell_type": "code",
   "execution_count": 14,
   "id": "5b7130a3",
   "metadata": {},
   "outputs": [],
   "source": [
    "mean_age=X_train['Age'].mean()\n",
    "median_age=X_train['Age'].median()\n",
    "\n",
    "mean_fare=X_train['Fare'].mean()\n",
    "median_fare=X_train['Fare'].median()"
   ]
  },
  {
   "cell_type": "code",
   "execution_count": 15,
   "id": "57b2b79c",
   "metadata": {},
   "outputs": [],
   "source": [
    "X_train['Age_mean']=X_train['Age'].fillna(mean_age)\n",
    "X_train['Age_median']=X_train['Age'].fillna(median_age)\n",
    "X_train['Fare_mean']=X_train['Fare'].fillna(mean_fare)\n",
    "X_train['Fare_Median']=X_train['Fare'].fillna(median_fare)"
   ]
  },
  {
   "cell_type": "code",
   "execution_count": 16,
   "id": "b1e08afd",
   "metadata": {},
   "outputs": [
    {
     "data": {
      "text/html": [
       "<div>\n",
       "<style scoped>\n",
       "    .dataframe tbody tr th:only-of-type {\n",
       "        vertical-align: middle;\n",
       "    }\n",
       "\n",
       "    .dataframe tbody tr th {\n",
       "        vertical-align: top;\n",
       "    }\n",
       "\n",
       "    .dataframe thead th {\n",
       "        text-align: right;\n",
       "    }\n",
       "</style>\n",
       "<table border=\"1\" class=\"dataframe\">\n",
       "  <thead>\n",
       "    <tr style=\"text-align: right;\">\n",
       "      <th></th>\n",
       "      <th>Age</th>\n",
       "      <th>Fare</th>\n",
       "      <th>Family</th>\n",
       "      <th>Age_mean</th>\n",
       "      <th>Age_median</th>\n",
       "      <th>Fare_mean</th>\n",
       "      <th>Fare_Median</th>\n",
       "    </tr>\n",
       "  </thead>\n",
       "  <tbody>\n",
       "    <tr>\n",
       "      <th>301</th>\n",
       "      <td>NaN</td>\n",
       "      <td>23.2500</td>\n",
       "      <td>2</td>\n",
       "      <td>29.654143</td>\n",
       "      <td>28.0</td>\n",
       "      <td>23.2500</td>\n",
       "      <td>23.2500</td>\n",
       "    </tr>\n",
       "    <tr>\n",
       "      <th>214</th>\n",
       "      <td>NaN</td>\n",
       "      <td>7.7500</td>\n",
       "      <td>1</td>\n",
       "      <td>29.654143</td>\n",
       "      <td>28.0</td>\n",
       "      <td>7.7500</td>\n",
       "      <td>7.7500</td>\n",
       "    </tr>\n",
       "    <tr>\n",
       "      <th>405</th>\n",
       "      <td>34.0</td>\n",
       "      <td>21.0000</td>\n",
       "      <td>1</td>\n",
       "      <td>34.000000</td>\n",
       "      <td>34.0</td>\n",
       "      <td>21.0000</td>\n",
       "      <td>21.0000</td>\n",
       "    </tr>\n",
       "    <tr>\n",
       "      <th>717</th>\n",
       "      <td>27.0</td>\n",
       "      <td>10.5000</td>\n",
       "      <td>0</td>\n",
       "      <td>27.000000</td>\n",
       "      <td>27.0</td>\n",
       "      <td>10.5000</td>\n",
       "      <td>10.5000</td>\n",
       "    </tr>\n",
       "    <tr>\n",
       "      <th>4</th>\n",
       "      <td>35.0</td>\n",
       "      <td>8.0500</td>\n",
       "      <td>0</td>\n",
       "      <td>35.000000</td>\n",
       "      <td>35.0</td>\n",
       "      <td>8.0500</td>\n",
       "      <td>8.0500</td>\n",
       "    </tr>\n",
       "    <tr>\n",
       "      <th>551</th>\n",
       "      <td>27.0</td>\n",
       "      <td>26.0000</td>\n",
       "      <td>0</td>\n",
       "      <td>27.000000</td>\n",
       "      <td>27.0</td>\n",
       "      <td>26.0000</td>\n",
       "      <td>26.0000</td>\n",
       "    </tr>\n",
       "    <tr>\n",
       "      <th>716</th>\n",
       "      <td>38.0</td>\n",
       "      <td>227.5250</td>\n",
       "      <td>0</td>\n",
       "      <td>38.000000</td>\n",
       "      <td>38.0</td>\n",
       "      <td>227.5250</td>\n",
       "      <td>227.5250</td>\n",
       "    </tr>\n",
       "    <tr>\n",
       "      <th>835</th>\n",
       "      <td>39.0</td>\n",
       "      <td>83.1583</td>\n",
       "      <td>2</td>\n",
       "      <td>39.000000</td>\n",
       "      <td>39.0</td>\n",
       "      <td>83.1583</td>\n",
       "      <td>83.1583</td>\n",
       "    </tr>\n",
       "    <tr>\n",
       "      <th>652</th>\n",
       "      <td>21.0</td>\n",
       "      <td>8.4333</td>\n",
       "      <td>0</td>\n",
       "      <td>21.000000</td>\n",
       "      <td>21.0</td>\n",
       "      <td>8.4333</td>\n",
       "      <td>8.4333</td>\n",
       "    </tr>\n",
       "    <tr>\n",
       "      <th>694</th>\n",
       "      <td>60.0</td>\n",
       "      <td>26.5500</td>\n",
       "      <td>0</td>\n",
       "      <td>60.000000</td>\n",
       "      <td>60.0</td>\n",
       "      <td>26.5500</td>\n",
       "      <td>26.5500</td>\n",
       "    </tr>\n",
       "  </tbody>\n",
       "</table>\n",
       "</div>"
      ],
      "text/plain": [
       "      Age      Fare  Family   Age_mean  Age_median  Fare_mean  Fare_Median\n",
       "301   NaN   23.2500       2  29.654143        28.0    23.2500      23.2500\n",
       "214   NaN    7.7500       1  29.654143        28.0     7.7500       7.7500\n",
       "405  34.0   21.0000       1  34.000000        34.0    21.0000      21.0000\n",
       "717  27.0   10.5000       0  27.000000        27.0    10.5000      10.5000\n",
       "4    35.0    8.0500       0  35.000000        35.0     8.0500       8.0500\n",
       "551  27.0   26.0000       0  27.000000        27.0    26.0000      26.0000\n",
       "716  38.0  227.5250       0  38.000000        38.0   227.5250     227.5250\n",
       "835  39.0   83.1583       2  39.000000        39.0    83.1583      83.1583\n",
       "652  21.0    8.4333       0  21.000000        21.0     8.4333       8.4333\n",
       "694  60.0   26.5500       0  60.000000        60.0    26.5500      26.5500"
      ]
     },
     "execution_count": 16,
     "metadata": {},
     "output_type": "execute_result"
    }
   ],
   "source": [
    "X_train.sample(10)"
   ]
  },
  {
   "cell_type": "code",
   "execution_count": 17,
   "id": "1fbb800e",
   "metadata": {},
   "outputs": [
    {
     "name": "stdout",
     "output_type": "stream",
     "text": [
      "Original Age variable variance:  215.57962500918515\n",
      "Age Variance after median imputation:  173.56358709346753\n",
      "Age Variance after mean imputation:  173.13075369935956\n",
      "Original Fare variable variance:  2782.9412602450634\n",
      "Fare Variance after median imputation:  2650.7385959520825\n",
      "Fare Variance after mean imputation:  2634.204596547014\n"
     ]
    }
   ],
   "source": [
    "print('Original Age variable variance: ', X_train['Age'].var())\n",
    "print('Age Variance after median imputation: ', X_train['Age_median'].var())\n",
    "print('Age Variance after mean imputation: ', X_train['Age_mean'].var())\n",
    "\n",
    "print('Original Fare variable variance: ', X_train['Fare'].var())\n",
    "print('Fare Variance after median imputation: ', X_train['Fare_Median'].var())\n",
    "print('Fare Variance after mean imputation: ', X_train['Fare_mean'].var())"
   ]
  },
  {
   "cell_type": "code",
   "execution_count": 22,
   "id": "5072206c",
   "metadata": {},
   "outputs": [
    {
     "data": {
      "text/plain": [
       "<AxesSubplot:ylabel='Density'>"
      ]
     },
     "execution_count": 22,
     "metadata": {},
     "output_type": "execute_result"
    },
    {
     "data": {
      "image/png": "[encoded data removed]",
      "text/plain": [
       "<Figure size 432x288 with 1 Axes>"
      ]
     },
     "metadata": {
      "needs_background": "light"
     },
     "output_type": "display_data"
    }
   ],
   "source": [
    "import matplotlib.pyplot as plt\n",
    "fig=plt.figure()\n",
    "\n",
    "\n",
    "X_train['Age'].plot(kind='kde')\n",
    "X_train['Age_median'].plot(kind='kde')"
   ]
  },
  {
   "cell_type": "code",
   "execution_count": 70,
   "id": "0626bb6a",
   "metadata": {},
   "outputs": [
    {
     "data": {
      "text/plain": [
       "<Figure size 432x288 with 0 Axes>"
      ]
     },
     "metadata": {},
     "output_type": "display_data"
    },
    {
     "data": {
      "image/png": "[encoded data removed]",
      "text/plain": [
       "<Figure size 432x288 with 4 Axes>"
      ]
     },
     "metadata": {
      "needs_background": "light"
     },
     "output_type": "display_data"
    }
   ],
   "source": [
    "\n",
    "fig = plt.figure()  # an empty figure with no axes\n",
    "fig, ax_lst = plt.subplots(2, 2)  # a figure with a 2x2 grid of Axes"
   ]
  },
  {
   "cell_type": "code",
   "execution_count": 71,
   "id": "0922300e",
   "metadata": {},
   "outputs": [
    {
     "data": {
      "text/plain": [
       "array([[<AxesSubplot:>, <AxesSubplot:>],\n",
       "       [<AxesSubplot:>, <AxesSubplot:>]], dtype=object)"
      ]
     },
     "execution_count": 71,
     "metadata": {},
     "output_type": "execute_result"
    }
   ],
   "source": [
    "ax_lst"
   ]
  },
  {
   "cell_type": "code",
   "execution_count": 72,
   "id": "ced2fc1a",
   "metadata": {},
   "outputs": [
    {
     "data": {
      "image/png": "[encoded data removed]",
      "text/plain": [
       "<Figure size 432x288 with 4 Axes>"
      ]
     },
     "execution_count": 72,
     "metadata": {},
     "output_type": "execute_result"
    }
   ],
   "source": [
    "fig"
   ]
  },
  {
   "cell_type": "code",
   "execution_count": 78,
   "id": "96777093",
   "metadata": {},
   "outputs": [
    {
     "data": {
      "image/png": "[encoded data removed]",
      "text/plain": [
       "<Figure size 432x288 with 2 Axes>"
      ]
     },
     "metadata": {
      "needs_background": "light"
     },
     "output_type": "display_data"
    }
   ],
   "source": [
    "fig, (ax1, ax2) = plt.subplots(1, 2)"
   ]
  },
  {
   "cell_type": "code",
   "execution_count": 23,
   "id": "777fe9a4",
   "metadata": {},
   "outputs": [
    {
     "data": {
      "text/plain": [
       "<matplotlib.legend.Legend at 0x21860740610>"
      ]
     },
     "execution_count": 23,
     "metadata": {},
     "output_type": "execute_result"
    },
    {
     "data": {
      "image/png": "[encoded data removed]",
      "text/plain": [
       "<Figure size 432x288 with 1 Axes>"
      ]
     },
     "metadata": {
      "needs_background": "light"
     },
     "output_type": "display_data"
    }
   ],
   "source": [
    "fig = plt.figure()\n",
    "ax = fig.add_subplot(111)\n",
    "\n",
    "# original variable distribution\n",
    "X_train['Age'].plot(kind='kde', ax=ax)\n",
    "\n",
    "# variable imputed with the median\n",
    "X_train['Age_median'].plot(kind='kde', ax=ax, color='red')\n",
    "\n",
    "# variable imputed with the mean\n",
    "X_train['Age_mean'].plot(kind='kde', ax=ax, color='green')\n",
    "\n",
    "# add legends\n",
    "lines, labels = ax.get_legend_handles_labels()\n",
    "ax.legend(lines, labels, loc='best')"
   ]
  },
  {
   "cell_type": "code",
   "execution_count": 27,
   "id": "b7469cfa",
   "metadata": {},
   "outputs": [
    {
     "data": {
      "text/plain": [
       "<matplotlib.legend.Legend at 0x21860c6e9d0>"
      ]
     },
     "execution_count": 27,
     "metadata": {},
     "output_type": "execute_result"
    },
    {
     "data": {
      "image/png": "[encoded data removed]",
      "text/plain": [
       "<Figure size 1080x432 with 1 Axes>"
      ]
     },
     "metadata": {
      "needs_background": "light"
     },
     "output_type": "display_data"
    }
   ],
   "source": [
    "fig=plt.figure(figsize=(15,6))\n",
    "ax=fig.add_subplot(121)\n",
    "X_train['Fare'].plot(kind='kde', ax=ax)\n",
    "\n",
    "# variable imputed with the median\n",
    "X_train['Fare_Median'].plot(kind='kde', ax=ax, color='red')\n",
    "\n",
    "# variable imputed with the mean\n",
    "X_train['Fare_mean'].plot(kind='kde', ax=ax, color='green')\n",
    "\n",
    "# add legends\n",
    "lines, labels = ax.get_legend_handles_labels()\n",
    "ax.legend(lines, labels, loc='best')"
   ]
  },
  {
   "cell_type": "code",
   "execution_count": 28,
   "id": "1c38e1ff",
   "metadata": {},
   "outputs": [
    {
     "data": {
      "text/html": [
       "<div>\n",
       "<style scoped>\n",
       "    .dataframe tbody tr th:only-of-type {\n",
       "        vertical-align: middle;\n",
       "    }\n",
       "\n",
       "    .dataframe tbody tr th {\n",
       "        vertical-align: top;\n",
       "    }\n",
       "\n",
       "    .dataframe thead th {\n",
       "        text-align: right;\n",
       "    }\n",
       "</style>\n",
       "<table border=\"1\" class=\"dataframe\">\n",
       "  <thead>\n",
       "    <tr style=\"text-align: right;\">\n",
       "      <th></th>\n",
       "      <th>Age</th>\n",
       "      <th>Fare</th>\n",
       "      <th>Family</th>\n",
       "      <th>Age_mean</th>\n",
       "      <th>Age_median</th>\n",
       "      <th>Fare_mean</th>\n",
       "      <th>Fare_Median</th>\n",
       "    </tr>\n",
       "  </thead>\n",
       "  <tbody>\n",
       "    <tr>\n",
       "      <th>Age</th>\n",
       "      <td>1.000000</td>\n",
       "      <td>0.082031</td>\n",
       "      <td>-0.308384</td>\n",
       "      <td>1.000000</td>\n",
       "      <td>1.000000</td>\n",
       "      <td>0.079961</td>\n",
       "      <td>0.079129</td>\n",
       "    </tr>\n",
       "    <tr>\n",
       "      <th>Fare</th>\n",
       "      <td>0.082031</td>\n",
       "      <td>1.000000</td>\n",
       "      <td>0.223349</td>\n",
       "      <td>0.078773</td>\n",
       "      <td>0.084033</td>\n",
       "      <td>1.000000</td>\n",
       "      <td>1.000000</td>\n",
       "    </tr>\n",
       "    <tr>\n",
       "      <th>Family</th>\n",
       "      <td>-0.308384</td>\n",
       "      <td>0.223349</td>\n",
       "      <td>1.000000</td>\n",
       "      <td>-0.255720</td>\n",
       "      <td>-0.251796</td>\n",
       "      <td>0.220437</td>\n",
       "      <td>0.220149</td>\n",
       "    </tr>\n",
       "    <tr>\n",
       "      <th>Age_mean</th>\n",
       "      <td>1.000000</td>\n",
       "      <td>0.078773</td>\n",
       "      <td>-0.255720</td>\n",
       "      <td>1.000000</td>\n",
       "      <td>0.998752</td>\n",
       "      <td>0.076868</td>\n",
       "      <td>0.076130</td>\n",
       "    </tr>\n",
       "    <tr>\n",
       "      <th>Age_median</th>\n",
       "      <td>1.000000</td>\n",
       "      <td>0.084033</td>\n",
       "      <td>-0.251796</td>\n",
       "      <td>0.998752</td>\n",
       "      <td>1.000000</td>\n",
       "      <td>0.082000</td>\n",
       "      <td>0.081031</td>\n",
       "    </tr>\n",
       "    <tr>\n",
       "      <th>Fare_mean</th>\n",
       "      <td>0.079961</td>\n",
       "      <td>1.000000</td>\n",
       "      <td>0.220437</td>\n",
       "      <td>0.076868</td>\n",
       "      <td>0.082000</td>\n",
       "      <td>1.000000</td>\n",
       "      <td>0.996876</td>\n",
       "    </tr>\n",
       "    <tr>\n",
       "      <th>Fare_Median</th>\n",
       "      <td>0.079129</td>\n",
       "      <td>1.000000</td>\n",
       "      <td>0.220149</td>\n",
       "      <td>0.076130</td>\n",
       "      <td>0.081031</td>\n",
       "      <td>0.996876</td>\n",
       "      <td>1.000000</td>\n",
       "    </tr>\n",
       "  </tbody>\n",
       "</table>\n",
       "</div>"
      ],
      "text/plain": [
       "                  Age      Fare    Family  Age_mean  Age_median  Fare_mean  \\\n",
       "Age          1.000000  0.082031 -0.308384  1.000000    1.000000   0.079961   \n",
       "Fare         0.082031  1.000000  0.223349  0.078773    0.084033   1.000000   \n",
       "Family      -0.308384  0.223349  1.000000 -0.255720   -0.251796   0.220437   \n",
       "Age_mean     1.000000  0.078773 -0.255720  1.000000    0.998752   0.076868   \n",
       "Age_median   1.000000  0.084033 -0.251796  0.998752    1.000000   0.082000   \n",
       "Fare_mean    0.079961  1.000000  0.220437  0.076868    0.082000   1.000000   \n",
       "Fare_Median  0.079129  1.000000  0.220149  0.076130    0.081031   0.996876   \n",
       "\n",
       "             Fare_Median  \n",
       "Age             0.079129  \n",
       "Fare            1.000000  \n",
       "Family          0.220149  \n",
       "Age_mean        0.076130  \n",
       "Age_median      0.081031  \n",
       "Fare_mean       0.996876  \n",
       "Fare_Median     1.000000  "
      ]
     },
     "execution_count": 28,
     "metadata": {},
     "output_type": "execute_result"
    }
   ],
   "source": [
    "# need to check for covariance and correlation\n",
    "X_train.corr()"
   ]
  },
  {
   "cell_type": "code",
   "execution_count": 29,
   "id": "507f9601",
   "metadata": {},
   "outputs": [
    {
     "data": {
      "text/html": [
       "<div>\n",
       "<style scoped>\n",
       "    .dataframe tbody tr th:only-of-type {\n",
       "        vertical-align: middle;\n",
       "    }\n",
       "\n",
       "    .dataframe tbody tr th {\n",
       "        vertical-align: top;\n",
       "    }\n",
       "\n",
       "    .dataframe thead th {\n",
       "        text-align: right;\n",
       "    }\n",
       "</style>\n",
       "<table border=\"1\" class=\"dataframe\">\n",
       "  <thead>\n",
       "    <tr style=\"text-align: right;\">\n",
       "      <th></th>\n",
       "      <th>Age</th>\n",
       "      <th>Fare</th>\n",
       "      <th>Family</th>\n",
       "      <th>Age_mean</th>\n",
       "      <th>Age_median</th>\n",
       "      <th>Fare_mean</th>\n",
       "      <th>Fare_Median</th>\n",
       "    </tr>\n",
       "  </thead>\n",
       "  <tbody>\n",
       "    <tr>\n",
       "      <th>Age</th>\n",
       "      <td>215.579625</td>\n",
       "      <td>68.800693</td>\n",
       "      <td>-6.959225</td>\n",
       "      <td>215.579625</td>\n",
       "      <td>215.579625</td>\n",
       "      <td>64.638401</td>\n",
       "      <td>64.218622</td>\n",
       "    </tr>\n",
       "    <tr>\n",
       "      <th>Fare</th>\n",
       "      <td>68.800693</td>\n",
       "      <td>2782.941260</td>\n",
       "      <td>19.853628</td>\n",
       "      <td>54.841793</td>\n",
       "      <td>58.576229</td>\n",
       "      <td>2782.941260</td>\n",
       "      <td>2782.941260</td>\n",
       "    </tr>\n",
       "    <tr>\n",
       "      <th>Family</th>\n",
       "      <td>-6.959225</td>\n",
       "      <td>19.853628</td>\n",
       "      <td>2.759002</td>\n",
       "      <td>-5.588913</td>\n",
       "      <td>-5.510034</td>\n",
       "      <td>18.792534</td>\n",
       "      <td>18.826745</td>\n",
       "    </tr>\n",
       "    <tr>\n",
       "      <th>Age_mean</th>\n",
       "      <td>215.579625</td>\n",
       "      <td>54.841793</td>\n",
       "      <td>-5.588913</td>\n",
       "      <td>173.130754</td>\n",
       "      <td>173.130754</td>\n",
       "      <td>51.910727</td>\n",
       "      <td>51.573605</td>\n",
       "    </tr>\n",
       "    <tr>\n",
       "      <th>Age_median</th>\n",
       "      <td>215.579625</td>\n",
       "      <td>58.576229</td>\n",
       "      <td>-5.510034</td>\n",
       "      <td>173.130754</td>\n",
       "      <td>173.563587</td>\n",
       "      <td>55.445573</td>\n",
       "      <td>54.962430</td>\n",
       "    </tr>\n",
       "    <tr>\n",
       "      <th>Fare_mean</th>\n",
       "      <td>64.638401</td>\n",
       "      <td>2782.941260</td>\n",
       "      <td>18.792534</td>\n",
       "      <td>51.910727</td>\n",
       "      <td>55.445573</td>\n",
       "      <td>2634.204597</td>\n",
       "      <td>2634.204597</td>\n",
       "    </tr>\n",
       "    <tr>\n",
       "      <th>Fare_Median</th>\n",
       "      <td>64.218622</td>\n",
       "      <td>2782.941260</td>\n",
       "      <td>18.826745</td>\n",
       "      <td>51.573605</td>\n",
       "      <td>54.962430</td>\n",
       "      <td>2634.204597</td>\n",
       "      <td>2650.738596</td>\n",
       "    </tr>\n",
       "  </tbody>\n",
       "</table>\n",
       "</div>"
      ],
      "text/plain": [
       "                    Age         Fare     Family    Age_mean  Age_median  \\\n",
       "Age          215.579625    68.800693  -6.959225  215.579625  215.579625   \n",
       "Fare          68.800693  2782.941260  19.853628   54.841793   58.576229   \n",
       "Family        -6.959225    19.853628   2.759002   -5.588913   -5.510034   \n",
       "Age_mean     215.579625    54.841793  -5.588913  173.130754  173.130754   \n",
       "Age_median   215.579625    58.576229  -5.510034  173.130754  173.563587   \n",
       "Fare_mean     64.638401  2782.941260  18.792534   51.910727   55.445573   \n",
       "Fare_Median   64.218622  2782.941260  18.826745   51.573605   54.962430   \n",
       "\n",
       "               Fare_mean  Fare_Median  \n",
       "Age            64.638401    64.218622  \n",
       "Fare         2782.941260  2782.941260  \n",
       "Family         18.792534    18.826745  \n",
       "Age_mean       51.910727    51.573605  \n",
       "Age_median     55.445573    54.962430  \n",
       "Fare_mean    2634.204597  2634.204597  \n",
       "Fare_Median  2634.204597  2650.738596  "
      ]
     },
     "execution_count": 29,
     "metadata": {},
     "output_type": "execute_result"
    }
   ],
   "source": [
    "X_train.cov()"
   ]
  },
  {
   "cell_type": "code",
   "execution_count": 30,
   "id": "ec3e6765",
   "metadata": {},
   "outputs": [
    {
     "data": {
      "text/plain": [
       "<AxesSubplot:>"
      ]
     },
     "execution_count": 30,
     "metadata": {},
     "output_type": "execute_result"
    },
    {
     "data": {
      "image/png": "[encoded data removed]",
      "text/plain": [
       "<Figure size 432x288 with 1 Axes>"
      ]
     },
     "metadata": {
      "needs_background": "light"
     },
     "output_type": "display_data"
    }
   ],
   "source": [
    "X_train[['Age', 'Age_median', 'Age_mean']].boxplot() #outlers are increased so we need to use other imputation"
   ]
  },
  {
   "cell_type": "code",
   "execution_count": 32,
   "id": "bec95e09",
   "metadata": {},
   "outputs": [
    {
     "data": {
      "text/plain": [
       "<AxesSubplot:>"
      ]
     },
     "execution_count": 32,
     "metadata": {},
     "output_type": "execute_result"
    },
    {
     "data": {
      "image/png": "[encoded data removed]",
      "text/plain": [
       "<Figure size 432x288 with 1 Axes>"
      ]
     },
     "metadata": {
      "needs_background": "light"
     },
     "output_type": "display_data"
    }
   ],
   "source": [
    "X_train[['Fare','Fare_Median','Fare_mean']].boxplot() #no change in the outlers"
   ]
  },
  {
   "cell_type": "code",
   "execution_count": null,
   "id": "0f331231",
   "metadata": {},
   "outputs": [],
   "source": []
  }
 ],
 "metadata": {
  "kernelspec": {
   "display_name": "Python 3",
   "language": "python",
   "name": "python3"
  },
  "language_info": {
   "codemirror_mode": {
    "name": "ipython",
    "version": 3
   },
   "file_extension": ".py",
   "mimetype": "text/x-python",
   "name": "python",
   "nbconvert_exporter": "python",
   "pygments_lexer": "ipython3",
   "version": "3.8.8"
  }
 },
 "nbformat": 4,
 "nbformat_minor": 5
}
