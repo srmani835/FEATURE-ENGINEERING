{
 "cells": [
  {
   "cell_type": "code",
   "execution_count": 13,
   "id": "925faaba",
   "metadata": {},
   "outputs": [],
   "source": [
    "import pandas as pd\n",
    "import numpy as np"
   ]
  },
  {
   "cell_type": "code",
   "execution_count": 14,
   "id": "55f4c33b",
   "metadata": {},
   "outputs": [],
   "source": [
    "df=pd.read_csv('titanic.csv')"
   ]
  },
  {
   "cell_type": "code",
   "execution_count": 15,
   "id": "96f901d7",
   "metadata": {},
   "outputs": [
    {
     "data": {
      "text/html": [
       "<div>\n",
       "<style scoped>\n",
       "    .dataframe tbody tr th:only-of-type {\n",
       "        vertical-align: middle;\n",
       "    }\n",
       "\n",
       "    .dataframe tbody tr th {\n",
       "        vertical-align: top;\n",
       "    }\n",
       "\n",
       "    .dataframe thead th {\n",
       "        text-align: right;\n",
       "    }\n",
       "</style>\n",
       "<table border=\"1\" class=\"dataframe\">\n",
       "  <thead>\n",
       "    <tr style=\"text-align: right;\">\n",
       "      <th></th>\n",
       "      <th>Cabin</th>\n",
       "      <th>Ticket</th>\n",
       "      <th>number</th>\n",
       "      <th>Survived</th>\n",
       "    </tr>\n",
       "  </thead>\n",
       "  <tbody>\n",
       "    <tr>\n",
       "      <th>0</th>\n",
       "      <td>NaN</td>\n",
       "      <td>A/5 21171</td>\n",
       "      <td>5</td>\n",
       "      <td>0</td>\n",
       "    </tr>\n",
       "    <tr>\n",
       "      <th>1</th>\n",
       "      <td>C85</td>\n",
       "      <td>PC 17599</td>\n",
       "      <td>3</td>\n",
       "      <td>1</td>\n",
       "    </tr>\n",
       "    <tr>\n",
       "      <th>2</th>\n",
       "      <td>NaN</td>\n",
       "      <td>STON/O2. 3101282</td>\n",
       "      <td>6</td>\n",
       "      <td>1</td>\n",
       "    </tr>\n",
       "    <tr>\n",
       "      <th>3</th>\n",
       "      <td>C123</td>\n",
       "      <td>113803</td>\n",
       "      <td>3</td>\n",
       "      <td>1</td>\n",
       "    </tr>\n",
       "    <tr>\n",
       "      <th>4</th>\n",
       "      <td>NaN</td>\n",
       "      <td>373450</td>\n",
       "      <td>A</td>\n",
       "      <td>0</td>\n",
       "    </tr>\n",
       "  </tbody>\n",
       "</table>\n",
       "</div>"
      ],
      "text/plain": [
       "  Cabin            Ticket number  Survived\n",
       "0   NaN         A/5 21171      5         0\n",
       "1   C85          PC 17599      3         1\n",
       "2   NaN  STON/O2. 3101282      6         1\n",
       "3  C123            113803      3         1\n",
       "4   NaN            373450      A         0"
      ]
     },
     "execution_count": 15,
     "metadata": {},
     "output_type": "execute_result"
    }
   ],
   "source": [
    "df.head()"
   ]
  },
  {
   "cell_type": "code",
   "execution_count": 16,
   "id": "fb9d4b73",
   "metadata": {},
   "outputs": [],
   "source": [
    "df['cabin_num']=df['Cabin'].str.extract('(\\d+)')#extract numerical part"
   ]
  },
  {
   "cell_type": "code",
   "execution_count": 17,
   "id": "fa5157d5",
   "metadata": {},
   "outputs": [
    {
     "data": {
      "text/html": [
       "<div>\n",
       "<style scoped>\n",
       "    .dataframe tbody tr th:only-of-type {\n",
       "        vertical-align: middle;\n",
       "    }\n",
       "\n",
       "    .dataframe tbody tr th {\n",
       "        vertical-align: top;\n",
       "    }\n",
       "\n",
       "    .dataframe thead th {\n",
       "        text-align: right;\n",
       "    }\n",
       "</style>\n",
       "<table border=\"1\" class=\"dataframe\">\n",
       "  <thead>\n",
       "    <tr style=\"text-align: right;\">\n",
       "      <th></th>\n",
       "      <th>Cabin</th>\n",
       "      <th>Ticket</th>\n",
       "      <th>number</th>\n",
       "      <th>Survived</th>\n",
       "      <th>cabin_num</th>\n",
       "      <th>cabin_cat</th>\n",
       "    </tr>\n",
       "  </thead>\n",
       "  <tbody>\n",
       "    <tr>\n",
       "      <th>0</th>\n",
       "      <td>NaN</td>\n",
       "      <td>A/5 21171</td>\n",
       "      <td>5</td>\n",
       "      <td>0</td>\n",
       "      <td>NaN</td>\n",
       "      <td>NaN</td>\n",
       "    </tr>\n",
       "    <tr>\n",
       "      <th>1</th>\n",
       "      <td>C85</td>\n",
       "      <td>PC 17599</td>\n",
       "      <td>3</td>\n",
       "      <td>1</td>\n",
       "      <td>85</td>\n",
       "      <td>C</td>\n",
       "    </tr>\n",
       "    <tr>\n",
       "      <th>2</th>\n",
       "      <td>NaN</td>\n",
       "      <td>STON/O2. 3101282</td>\n",
       "      <td>6</td>\n",
       "      <td>1</td>\n",
       "      <td>NaN</td>\n",
       "      <td>NaN</td>\n",
       "    </tr>\n",
       "    <tr>\n",
       "      <th>3</th>\n",
       "      <td>C123</td>\n",
       "      <td>113803</td>\n",
       "      <td>3</td>\n",
       "      <td>1</td>\n",
       "      <td>123</td>\n",
       "      <td>C</td>\n",
       "    </tr>\n",
       "    <tr>\n",
       "      <th>4</th>\n",
       "      <td>NaN</td>\n",
       "      <td>373450</td>\n",
       "      <td>A</td>\n",
       "      <td>0</td>\n",
       "      <td>NaN</td>\n",
       "      <td>NaN</td>\n",
       "    </tr>\n",
       "  </tbody>\n",
       "</table>\n",
       "</div>"
      ],
      "text/plain": [
       "  Cabin            Ticket number  Survived cabin_num cabin_cat\n",
       "0   NaN         A/5 21171      5         0       NaN       NaN\n",
       "1   C85          PC 17599      3         1        85         C\n",
       "2   NaN  STON/O2. 3101282      6         1       NaN       NaN\n",
       "3  C123            113803      3         1       123         C\n",
       "4   NaN            373450      A         0       NaN       NaN"
      ]
     },
     "execution_count": 17,
     "metadata": {},
     "output_type": "execute_result"
    }
   ],
   "source": [
    "df['cabin_cat'] = df['Cabin'].str.extract('([A-Z]{1})') # captures the first letter\n",
    "df.head()"
   ]
  },
  {
   "cell_type": "code",
   "execution_count": 22,
   "id": "98d9b592",
   "metadata": {},
   "outputs": [],
   "source": [
    "df['Ticket_cat']=df['Ticket'].str.extract('([A-Z]*)')"
   ]
  },
  {
   "cell_type": "code",
   "execution_count": 23,
   "id": "c584a48c",
   "metadata": {},
   "outputs": [
    {
     "data": {
      "text/html": [
       "<div>\n",
       "<style scoped>\n",
       "    .dataframe tbody tr th:only-of-type {\n",
       "        vertical-align: middle;\n",
       "    }\n",
       "\n",
       "    .dataframe tbody tr th {\n",
       "        vertical-align: top;\n",
       "    }\n",
       "\n",
       "    .dataframe thead th {\n",
       "        text-align: right;\n",
       "    }\n",
       "</style>\n",
       "<table border=\"1\" class=\"dataframe\">\n",
       "  <thead>\n",
       "    <tr style=\"text-align: right;\">\n",
       "      <th></th>\n",
       "      <th>Cabin</th>\n",
       "      <th>Ticket</th>\n",
       "      <th>number</th>\n",
       "      <th>Survived</th>\n",
       "      <th>cabin_num</th>\n",
       "      <th>cabin_cat</th>\n",
       "      <th>Ticket_num</th>\n",
       "      <th>Ticket_cat</th>\n",
       "    </tr>\n",
       "  </thead>\n",
       "  <tbody>\n",
       "    <tr>\n",
       "      <th>0</th>\n",
       "      <td>NaN</td>\n",
       "      <td>A/5 21171</td>\n",
       "      <td>5</td>\n",
       "      <td>0</td>\n",
       "      <td>NaN</td>\n",
       "      <td>NaN</td>\n",
       "      <td>A</td>\n",
       "      <td>A</td>\n",
       "    </tr>\n",
       "    <tr>\n",
       "      <th>1</th>\n",
       "      <td>C85</td>\n",
       "      <td>PC 17599</td>\n",
       "      <td>3</td>\n",
       "      <td>1</td>\n",
       "      <td>85</td>\n",
       "      <td>C</td>\n",
       "      <td>PC</td>\n",
       "      <td>PC</td>\n",
       "    </tr>\n",
       "    <tr>\n",
       "      <th>2</th>\n",
       "      <td>NaN</td>\n",
       "      <td>STON/O2. 3101282</td>\n",
       "      <td>6</td>\n",
       "      <td>1</td>\n",
       "      <td>NaN</td>\n",
       "      <td>NaN</td>\n",
       "      <td>STON</td>\n",
       "      <td>STON</td>\n",
       "    </tr>\n",
       "    <tr>\n",
       "      <th>3</th>\n",
       "      <td>C123</td>\n",
       "      <td>113803</td>\n",
       "      <td>3</td>\n",
       "      <td>1</td>\n",
       "      <td>123</td>\n",
       "      <td>C</td>\n",
       "      <td></td>\n",
       "      <td></td>\n",
       "    </tr>\n",
       "    <tr>\n",
       "      <th>4</th>\n",
       "      <td>NaN</td>\n",
       "      <td>373450</td>\n",
       "      <td>A</td>\n",
       "      <td>0</td>\n",
       "      <td>NaN</td>\n",
       "      <td>NaN</td>\n",
       "      <td></td>\n",
       "      <td></td>\n",
       "    </tr>\n",
       "  </tbody>\n",
       "</table>\n",
       "</div>"
      ],
      "text/plain": [
       "  Cabin            Ticket number  Survived cabin_num cabin_cat Ticket_num  \\\n",
       "0   NaN         A/5 21171      5         0       NaN       NaN          A   \n",
       "1   C85          PC 17599      3         1        85         C         PC   \n",
       "2   NaN  STON/O2. 3101282      6         1       NaN       NaN       STON   \n",
       "3  C123            113803      3         1       123         C              \n",
       "4   NaN            373450      A         0       NaN       NaN              \n",
       "\n",
       "  Ticket_cat  \n",
       "0          A  \n",
       "1         PC  \n",
       "2       STON  \n",
       "3             \n",
       "4             "
      ]
     },
     "execution_count": 23,
     "metadata": {},
     "output_type": "execute_result"
    }
   ],
   "source": [
    "df.head()"
   ]
  },
  {
   "cell_type": "code",
   "execution_count": 24,
   "id": "22c5ff9e",
   "metadata": {},
   "outputs": [],
   "source": [
    "df['Ticket_numeric']=df['Ticket'].str.extract('([0-9]*)')"
   ]
  },
  {
   "cell_type": "code",
   "execution_count": 26,
   "id": "24d03bfd",
   "metadata": {},
   "outputs": [],
   "source": [
    "df.drop(columns='Ticket_num',inplace=True)"
   ]
  },
  {
   "cell_type": "code",
   "execution_count": 27,
   "id": "328af6c2",
   "metadata": {},
   "outputs": [
    {
     "data": {
      "text/html": [
       "<div>\n",
       "<style scoped>\n",
       "    .dataframe tbody tr th:only-of-type {\n",
       "        vertical-align: middle;\n",
       "    }\n",
       "\n",
       "    .dataframe tbody tr th {\n",
       "        vertical-align: top;\n",
       "    }\n",
       "\n",
       "    .dataframe thead th {\n",
       "        text-align: right;\n",
       "    }\n",
       "</style>\n",
       "<table border=\"1\" class=\"dataframe\">\n",
       "  <thead>\n",
       "    <tr style=\"text-align: right;\">\n",
       "      <th></th>\n",
       "      <th>Cabin</th>\n",
       "      <th>Ticket</th>\n",
       "      <th>number</th>\n",
       "      <th>Survived</th>\n",
       "      <th>cabin_num</th>\n",
       "      <th>cabin_cat</th>\n",
       "      <th>Ticket_cat</th>\n",
       "      <th>Ticket_nume</th>\n",
       "    </tr>\n",
       "  </thead>\n",
       "  <tbody>\n",
       "    <tr>\n",
       "      <th>0</th>\n",
       "      <td>NaN</td>\n",
       "      <td>A/5 21171</td>\n",
       "      <td>5</td>\n",
       "      <td>0</td>\n",
       "      <td>NaN</td>\n",
       "      <td>NaN</td>\n",
       "      <td>A</td>\n",
       "      <td></td>\n",
       "    </tr>\n",
       "    <tr>\n",
       "      <th>1</th>\n",
       "      <td>C85</td>\n",
       "      <td>PC 17599</td>\n",
       "      <td>3</td>\n",
       "      <td>1</td>\n",
       "      <td>85</td>\n",
       "      <td>C</td>\n",
       "      <td>PC</td>\n",
       "      <td></td>\n",
       "    </tr>\n",
       "    <tr>\n",
       "      <th>2</th>\n",
       "      <td>NaN</td>\n",
       "      <td>STON/O2. 3101282</td>\n",
       "      <td>6</td>\n",
       "      <td>1</td>\n",
       "      <td>NaN</td>\n",
       "      <td>NaN</td>\n",
       "      <td>STON</td>\n",
       "      <td></td>\n",
       "    </tr>\n",
       "    <tr>\n",
       "      <th>3</th>\n",
       "      <td>C123</td>\n",
       "      <td>113803</td>\n",
       "      <td>3</td>\n",
       "      <td>1</td>\n",
       "      <td>123</td>\n",
       "      <td>C</td>\n",
       "      <td></td>\n",
       "      <td>113803</td>\n",
       "    </tr>\n",
       "    <tr>\n",
       "      <th>4</th>\n",
       "      <td>NaN</td>\n",
       "      <td>373450</td>\n",
       "      <td>A</td>\n",
       "      <td>0</td>\n",
       "      <td>NaN</td>\n",
       "      <td>NaN</td>\n",
       "      <td></td>\n",
       "      <td>373450</td>\n",
       "    </tr>\n",
       "  </tbody>\n",
       "</table>\n",
       "</div>"
      ],
      "text/plain": [
       "  Cabin            Ticket number  Survived cabin_num cabin_cat Ticket_cat  \\\n",
       "0   NaN         A/5 21171      5         0       NaN       NaN          A   \n",
       "1   C85          PC 17599      3         1        85         C         PC   \n",
       "2   NaN  STON/O2. 3101282      6         1       NaN       NaN       STON   \n",
       "3  C123            113803      3         1       123         C              \n",
       "4   NaN            373450      A         0       NaN       NaN              \n",
       "\n",
       "  Ticket_nume  \n",
       "0              \n",
       "1              \n",
       "2              \n",
       "3      113803  \n",
       "4      373450  "
      ]
     },
     "execution_count": 27,
     "metadata": {},
     "output_type": "execute_result"
    }
   ],
   "source": [
    "df.head()"
   ]
  },
  {
   "cell_type": "code",
   "execution_count": 29,
   "id": "074b37f5",
   "metadata": {},
   "outputs": [
    {
     "data": {
      "text/plain": [
       "array(['5', '3', '6', 'A', '2', '1', '4'], dtype=object)"
      ]
     },
     "execution_count": 29,
     "metadata": {},
     "output_type": "execute_result"
    }
   ],
   "source": [
    "df['number'].unique()"
   ]
  },
  {
   "cell_type": "markdown",
   "id": "ecc2eada",
   "metadata": {},
   "source": [
    "The idea is to seperate the categorical and numerical columns from the number column."
   ]
  },
  {
   "cell_type": "code",
   "execution_count": 31,
   "id": "121b5b72",
   "metadata": {},
   "outputs": [],
   "source": [
    "df['number_numerical']=pd.to_numeric(df['number'],errors='coerce',downcast='integer')"
   ]
  },
  {
   "cell_type": "code",
   "execution_count": 32,
   "id": "902e8b3d",
   "metadata": {},
   "outputs": [],
   "source": [
    "df['number_categorical']=np.where(df['number_numerical'].isnull(),df['number'],np.nan)"
   ]
  },
  {
   "cell_type": "code",
   "execution_count": 33,
   "id": "9a713698",
   "metadata": {},
   "outputs": [
    {
     "data": {
      "text/html": [
       "<div>\n",
       "<style scoped>\n",
       "    .dataframe tbody tr th:only-of-type {\n",
       "        vertical-align: middle;\n",
       "    }\n",
       "\n",
       "    .dataframe tbody tr th {\n",
       "        vertical-align: top;\n",
       "    }\n",
       "\n",
       "    .dataframe thead th {\n",
       "        text-align: right;\n",
       "    }\n",
       "</style>\n",
       "<table border=\"1\" class=\"dataframe\">\n",
       "  <thead>\n",
       "    <tr style=\"text-align: right;\">\n",
       "      <th></th>\n",
       "      <th>Cabin</th>\n",
       "      <th>Ticket</th>\n",
       "      <th>number</th>\n",
       "      <th>Survived</th>\n",
       "      <th>cabin_num</th>\n",
       "      <th>cabin_cat</th>\n",
       "      <th>Ticket_cat</th>\n",
       "      <th>Ticket_nume</th>\n",
       "      <th>number_numerical</th>\n",
       "      <th>number_categorical</th>\n",
       "    </tr>\n",
       "  </thead>\n",
       "  <tbody>\n",
       "    <tr>\n",
       "      <th>0</th>\n",
       "      <td>NaN</td>\n",
       "      <td>A/5 21171</td>\n",
       "      <td>5</td>\n",
       "      <td>0</td>\n",
       "      <td>NaN</td>\n",
       "      <td>NaN</td>\n",
       "      <td>A</td>\n",
       "      <td></td>\n",
       "      <td>5.0</td>\n",
       "      <td>NaN</td>\n",
       "    </tr>\n",
       "    <tr>\n",
       "      <th>1</th>\n",
       "      <td>C85</td>\n",
       "      <td>PC 17599</td>\n",
       "      <td>3</td>\n",
       "      <td>1</td>\n",
       "      <td>85</td>\n",
       "      <td>C</td>\n",
       "      <td>PC</td>\n",
       "      <td></td>\n",
       "      <td>3.0</td>\n",
       "      <td>NaN</td>\n",
       "    </tr>\n",
       "    <tr>\n",
       "      <th>2</th>\n",
       "      <td>NaN</td>\n",
       "      <td>STON/O2. 3101282</td>\n",
       "      <td>6</td>\n",
       "      <td>1</td>\n",
       "      <td>NaN</td>\n",
       "      <td>NaN</td>\n",
       "      <td>STON</td>\n",
       "      <td></td>\n",
       "      <td>6.0</td>\n",
       "      <td>NaN</td>\n",
       "    </tr>\n",
       "    <tr>\n",
       "      <th>3</th>\n",
       "      <td>C123</td>\n",
       "      <td>113803</td>\n",
       "      <td>3</td>\n",
       "      <td>1</td>\n",
       "      <td>123</td>\n",
       "      <td>C</td>\n",
       "      <td></td>\n",
       "      <td>113803</td>\n",
       "      <td>3.0</td>\n",
       "      <td>NaN</td>\n",
       "    </tr>\n",
       "    <tr>\n",
       "      <th>4</th>\n",
       "      <td>NaN</td>\n",
       "      <td>373450</td>\n",
       "      <td>A</td>\n",
       "      <td>0</td>\n",
       "      <td>NaN</td>\n",
       "      <td>NaN</td>\n",
       "      <td></td>\n",
       "      <td>373450</td>\n",
       "      <td>NaN</td>\n",
       "      <td>A</td>\n",
       "    </tr>\n",
       "  </tbody>\n",
       "</table>\n",
       "</div>"
      ],
      "text/plain": [
       "  Cabin            Ticket number  Survived cabin_num cabin_cat Ticket_cat  \\\n",
       "0   NaN         A/5 21171      5         0       NaN       NaN          A   \n",
       "1   C85          PC 17599      3         1        85         C         PC   \n",
       "2   NaN  STON/O2. 3101282      6         1       NaN       NaN       STON   \n",
       "3  C123            113803      3         1       123         C              \n",
       "4   NaN            373450      A         0       NaN       NaN              \n",
       "\n",
       "  Ticket_nume  number_numerical number_categorical  \n",
       "0                           5.0                NaN  \n",
       "1                           3.0                NaN  \n",
       "2                           6.0                NaN  \n",
       "3      113803               3.0                NaN  \n",
       "4      373450               NaN                  A  "
      ]
     },
     "execution_count": 33,
     "metadata": {},
     "output_type": "execute_result"
    }
   ],
   "source": [
    "df.head()"
   ]
  },
  {
   "cell_type": "code",
   "execution_count": 42,
   "id": "5e61abc2",
   "metadata": {},
   "outputs": [],
   "source": [
    "df.drop(columns=['Ticket_cat','Ticket_nume'],inplace=True)"
   ]
  },
  {
   "cell_type": "code",
   "execution_count": 43,
   "id": "08150976",
   "metadata": {},
   "outputs": [
    {
     "data": {
      "text/html": [
       "<div>\n",
       "<style scoped>\n",
       "    .dataframe tbody tr th:only-of-type {\n",
       "        vertical-align: middle;\n",
       "    }\n",
       "\n",
       "    .dataframe tbody tr th {\n",
       "        vertical-align: top;\n",
       "    }\n",
       "\n",
       "    .dataframe thead th {\n",
       "        text-align: right;\n",
       "    }\n",
       "</style>\n",
       "<table border=\"1\" class=\"dataframe\">\n",
       "  <thead>\n",
       "    <tr style=\"text-align: right;\">\n",
       "      <th></th>\n",
       "      <th>Cabin</th>\n",
       "      <th>Ticket</th>\n",
       "      <th>number</th>\n",
       "      <th>Survived</th>\n",
       "      <th>cabin_num</th>\n",
       "      <th>cabin_cat</th>\n",
       "      <th>number_numerical</th>\n",
       "      <th>number_categorical</th>\n",
       "    </tr>\n",
       "  </thead>\n",
       "  <tbody>\n",
       "    <tr>\n",
       "      <th>0</th>\n",
       "      <td>NaN</td>\n",
       "      <td>A/5 21171</td>\n",
       "      <td>5</td>\n",
       "      <td>0</td>\n",
       "      <td>NaN</td>\n",
       "      <td>NaN</td>\n",
       "      <td>5.0</td>\n",
       "      <td>NaN</td>\n",
       "    </tr>\n",
       "    <tr>\n",
       "      <th>1</th>\n",
       "      <td>C85</td>\n",
       "      <td>PC 17599</td>\n",
       "      <td>3</td>\n",
       "      <td>1</td>\n",
       "      <td>85</td>\n",
       "      <td>C</td>\n",
       "      <td>3.0</td>\n",
       "      <td>NaN</td>\n",
       "    </tr>\n",
       "    <tr>\n",
       "      <th>2</th>\n",
       "      <td>NaN</td>\n",
       "      <td>STON/O2. 3101282</td>\n",
       "      <td>6</td>\n",
       "      <td>1</td>\n",
       "      <td>NaN</td>\n",
       "      <td>NaN</td>\n",
       "      <td>6.0</td>\n",
       "      <td>NaN</td>\n",
       "    </tr>\n",
       "    <tr>\n",
       "      <th>3</th>\n",
       "      <td>C123</td>\n",
       "      <td>113803</td>\n",
       "      <td>3</td>\n",
       "      <td>1</td>\n",
       "      <td>123</td>\n",
       "      <td>C</td>\n",
       "      <td>3.0</td>\n",
       "      <td>NaN</td>\n",
       "    </tr>\n",
       "    <tr>\n",
       "      <th>4</th>\n",
       "      <td>NaN</td>\n",
       "      <td>373450</td>\n",
       "      <td>A</td>\n",
       "      <td>0</td>\n",
       "      <td>NaN</td>\n",
       "      <td>NaN</td>\n",
       "      <td>NaN</td>\n",
       "      <td>A</td>\n",
       "    </tr>\n",
       "  </tbody>\n",
       "</table>\n",
       "</div>"
      ],
      "text/plain": [
       "  Cabin            Ticket number  Survived cabin_num cabin_cat  \\\n",
       "0   NaN         A/5 21171      5         0       NaN       NaN   \n",
       "1   C85          PC 17599      3         1        85         C   \n",
       "2   NaN  STON/O2. 3101282      6         1       NaN       NaN   \n",
       "3  C123            113803      3         1       123         C   \n",
       "4   NaN            373450      A         0       NaN       NaN   \n",
       "\n",
       "   number_numerical number_categorical  \n",
       "0               5.0                NaN  \n",
       "1               3.0                NaN  \n",
       "2               6.0                NaN  \n",
       "3               3.0                NaN  \n",
       "4               NaN                  A  "
      ]
     },
     "execution_count": 43,
     "metadata": {},
     "output_type": "execute_result"
    }
   ],
   "source": [
    "df.head()"
   ]
  },
  {
   "cell_type": "code",
   "execution_count": 44,
   "id": "63a102b1",
   "metadata": {},
   "outputs": [],
   "source": [
    "df['ticket_num']=df['Ticket'].apply(lambda s: s.split()[-1])"
   ]
  },
  {
   "cell_type": "code",
   "execution_count": 47,
   "id": "cbae625c",
   "metadata": {},
   "outputs": [],
   "source": [
    "df['ticket_num']=pd.to_numeric(df['ticket_num'],errors='coerce',downcast='integer')"
   ]
  },
  {
   "cell_type": "code",
   "execution_count": 50,
   "id": "3befaa64",
   "metadata": {},
   "outputs": [],
   "source": [
    "df['ticket_cat']=df['Ticket'].apply(lambda s: s.split()[0])"
   ]
  },
  {
   "cell_type": "code",
   "execution_count": 52,
   "id": "d9325fee",
   "metadata": {},
   "outputs": [],
   "source": [
    "df['ticket_cat']=np.where(df['ticket_cat'].str.isdigit(),np.nan,df['ticket_cat'])"
   ]
  },
  {
   "cell_type": "code",
   "execution_count": 54,
   "id": "2da65e20",
   "metadata": {},
   "outputs": [
    {
     "data": {
      "text/html": [
       "<div>\n",
       "<style scoped>\n",
       "    .dataframe tbody tr th:only-of-type {\n",
       "        vertical-align: middle;\n",
       "    }\n",
       "\n",
       "    .dataframe tbody tr th {\n",
       "        vertical-align: top;\n",
       "    }\n",
       "\n",
       "    .dataframe thead th {\n",
       "        text-align: right;\n",
       "    }\n",
       "</style>\n",
       "<table border=\"1\" class=\"dataframe\">\n",
       "  <thead>\n",
       "    <tr style=\"text-align: right;\">\n",
       "      <th></th>\n",
       "      <th>Cabin</th>\n",
       "      <th>Ticket</th>\n",
       "      <th>number</th>\n",
       "      <th>Survived</th>\n",
       "      <th>cabin_num</th>\n",
       "      <th>cabin_cat</th>\n",
       "      <th>number_numerical</th>\n",
       "      <th>number_categorical</th>\n",
       "      <th>ticket_num</th>\n",
       "      <th>ticket_cat</th>\n",
       "    </tr>\n",
       "  </thead>\n",
       "  <tbody>\n",
       "    <tr>\n",
       "      <th>469</th>\n",
       "      <td>NaN</td>\n",
       "      <td>2666</td>\n",
       "      <td>4</td>\n",
       "      <td>1</td>\n",
       "      <td>NaN</td>\n",
       "      <td>NaN</td>\n",
       "      <td>4.0</td>\n",
       "      <td>NaN</td>\n",
       "      <td>2666.0</td>\n",
       "      <td>NaN</td>\n",
       "    </tr>\n",
       "    <tr>\n",
       "      <th>413</th>\n",
       "      <td>NaN</td>\n",
       "      <td>239853</td>\n",
       "      <td>5</td>\n",
       "      <td>0</td>\n",
       "      <td>NaN</td>\n",
       "      <td>NaN</td>\n",
       "      <td>5.0</td>\n",
       "      <td>NaN</td>\n",
       "      <td>239853.0</td>\n",
       "      <td>NaN</td>\n",
       "    </tr>\n",
       "    <tr>\n",
       "      <th>140</th>\n",
       "      <td>NaN</td>\n",
       "      <td>2678</td>\n",
       "      <td>2</td>\n",
       "      <td>0</td>\n",
       "      <td>NaN</td>\n",
       "      <td>NaN</td>\n",
       "      <td>2.0</td>\n",
       "      <td>NaN</td>\n",
       "      <td>2678.0</td>\n",
       "      <td>NaN</td>\n",
       "    </tr>\n",
       "    <tr>\n",
       "      <th>247</th>\n",
       "      <td>NaN</td>\n",
       "      <td>250649</td>\n",
       "      <td>2</td>\n",
       "      <td>1</td>\n",
       "      <td>NaN</td>\n",
       "      <td>NaN</td>\n",
       "      <td>2.0</td>\n",
       "      <td>NaN</td>\n",
       "      <td>250649.0</td>\n",
       "      <td>NaN</td>\n",
       "    </tr>\n",
       "    <tr>\n",
       "      <th>603</th>\n",
       "      <td>NaN</td>\n",
       "      <td>364511</td>\n",
       "      <td>2</td>\n",
       "      <td>0</td>\n",
       "      <td>NaN</td>\n",
       "      <td>NaN</td>\n",
       "      <td>2.0</td>\n",
       "      <td>NaN</td>\n",
       "      <td>364511.0</td>\n",
       "      <td>NaN</td>\n",
       "    </tr>\n",
       "    <tr>\n",
       "      <th>861</th>\n",
       "      <td>NaN</td>\n",
       "      <td>28134</td>\n",
       "      <td>2</td>\n",
       "      <td>0</td>\n",
       "      <td>NaN</td>\n",
       "      <td>NaN</td>\n",
       "      <td>2.0</td>\n",
       "      <td>NaN</td>\n",
       "      <td>28134.0</td>\n",
       "      <td>NaN</td>\n",
       "    </tr>\n",
       "    <tr>\n",
       "      <th>806</th>\n",
       "      <td>A36</td>\n",
       "      <td>112050</td>\n",
       "      <td>1</td>\n",
       "      <td>0</td>\n",
       "      <td>36</td>\n",
       "      <td>A</td>\n",
       "      <td>1.0</td>\n",
       "      <td>NaN</td>\n",
       "      <td>112050.0</td>\n",
       "      <td>NaN</td>\n",
       "    </tr>\n",
       "    <tr>\n",
       "      <th>388</th>\n",
       "      <td>NaN</td>\n",
       "      <td>367655</td>\n",
       "      <td>6</td>\n",
       "      <td>0</td>\n",
       "      <td>NaN</td>\n",
       "      <td>NaN</td>\n",
       "      <td>6.0</td>\n",
       "      <td>NaN</td>\n",
       "      <td>367655.0</td>\n",
       "      <td>NaN</td>\n",
       "    </tr>\n",
       "    <tr>\n",
       "      <th>834</th>\n",
       "      <td>NaN</td>\n",
       "      <td>2223</td>\n",
       "      <td>6</td>\n",
       "      <td>0</td>\n",
       "      <td>NaN</td>\n",
       "      <td>NaN</td>\n",
       "      <td>6.0</td>\n",
       "      <td>NaN</td>\n",
       "      <td>2223.0</td>\n",
       "      <td>NaN</td>\n",
       "    </tr>\n",
       "    <tr>\n",
       "      <th>679</th>\n",
       "      <td>B51 B53 B55</td>\n",
       "      <td>PC 17755</td>\n",
       "      <td>5</td>\n",
       "      <td>1</td>\n",
       "      <td>51</td>\n",
       "      <td>B</td>\n",
       "      <td>5.0</td>\n",
       "      <td>NaN</td>\n",
       "      <td>17755.0</td>\n",
       "      <td>PC</td>\n",
       "    </tr>\n",
       "  </tbody>\n",
       "</table>\n",
       "</div>"
      ],
      "text/plain": [
       "           Cabin    Ticket number  Survived cabin_num cabin_cat  \\\n",
       "469          NaN      2666      4         1       NaN       NaN   \n",
       "413          NaN    239853      5         0       NaN       NaN   \n",
       "140          NaN      2678      2         0       NaN       NaN   \n",
       "247          NaN    250649      2         1       NaN       NaN   \n",
       "603          NaN    364511      2         0       NaN       NaN   \n",
       "861          NaN     28134      2         0       NaN       NaN   \n",
       "806          A36    112050      1         0        36         A   \n",
       "388          NaN    367655      6         0       NaN       NaN   \n",
       "834          NaN      2223      6         0       NaN       NaN   \n",
       "679  B51 B53 B55  PC 17755      5         1        51         B   \n",
       "\n",
       "     number_numerical number_categorical  ticket_num ticket_cat  \n",
       "469               4.0                NaN      2666.0        NaN  \n",
       "413               5.0                NaN    239853.0        NaN  \n",
       "140               2.0                NaN      2678.0        NaN  \n",
       "247               2.0                NaN    250649.0        NaN  \n",
       "603               2.0                NaN    364511.0        NaN  \n",
       "861               2.0                NaN     28134.0        NaN  \n",
       "806               1.0                NaN    112050.0        NaN  \n",
       "388               6.0                NaN    367655.0        NaN  \n",
       "834               6.0                NaN      2223.0        NaN  \n",
       "679               5.0                NaN     17755.0         PC  "
      ]
     },
     "execution_count": 54,
     "metadata": {},
     "output_type": "execute_result"
    }
   ],
   "source": [
    "df.sample(10)"
   ]
  },
  {
   "cell_type": "code",
   "execution_count": 57,
   "id": "f73bd2b5",
   "metadata": {},
   "outputs": [
    {
     "data": {
      "text/plain": [
       "<AxesSubplot:xlabel='cabin_cat', ylabel='count'>"
      ]
     },
     "execution_count": 57,
     "metadata": {},
     "output_type": "execute_result"
    },
    {
     "data": {
      "image/png": "[encoded data removed]",
      "text/plain": [
       "<Figure size 432x288 with 1 Axes>"
      ]
     },
     "metadata": {
      "needs_background": "light"
     },
     "output_type": "display_data"
    }
   ],
   "source": [
    "import seaborn as sns\n",
    "sns.countplot(data=df,x='cabin_cat',)"
   ]
  },
  {
   "cell_type": "code",
   "execution_count": 59,
   "id": "d798b7d2",
   "metadata": {},
   "outputs": [
    {
     "data": {
      "text/plain": [
       "<AxesSubplot:>"
      ]
     },
     "execution_count": 59,
     "metadata": {},
     "output_type": "execute_result"
    },
    {
     "data": {
      "image/png": "[encoded data removed]",
      "text/plain": [
       "<Figure size 432x288 with 1 Axes>"
      ]
     },
     "metadata": {
      "needs_background": "light"
     },
     "output_type": "display_data"
    }
   ],
   "source": [
    "df['cabin_cat'].value_counts().plot(kind='bar')"
   ]
  },
  {
   "cell_type": "code",
   "execution_count": 61,
   "id": "41fe644e",
   "metadata": {},
   "outputs": [
    {
     "data": {
      "text/plain": [
       "<AxesSubplot:xlabel='cabin_cat', ylabel='number_numerical'>"
      ]
     },
     "execution_count": 61,
     "metadata": {},
     "output_type": "execute_result"
    },
    {
     "data": {
      "image/png": "[encoded data removed]",
      "text/plain": [
       "<Figure size 432x288 with 1 Axes>"
      ]
     },
     "metadata": {
      "needs_background": "light"
     },
     "output_type": "display_data"
    }
   ],
   "source": [
    "sns.barplot(data=df,x='cabin_cat',y='number_numerical')"
   ]
  },
  {
   "cell_type": "code",
   "execution_count": null,
   "id": "178cd96c",
   "metadata": {},
   "outputs": [],
   "source": []
  }
 ],
 "metadata": {
  "kernelspec": {
   "display_name": "Python 3",
   "language": "python",
   "name": "python3"
  },
  "language_info": {
   "codemirror_mode": {
    "name": "ipython",
    "version": 3
   },
   "file_extension": ".py",
   "mimetype": "text/x-python",
   "name": "python",
   "nbconvert_exporter": "python",
   "pygments_lexer": "ipython3",
   "version": "3.8.8"
  }
 },
 "nbformat": 4,
 "nbformat_minor": 5
}
